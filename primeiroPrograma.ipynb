{
 "cells": [
  {
   "cell_type": "markdown",
   "metadata": {},
   "source": [
    "# Meu primeiro programa em python - Curso de Python FEA.dev 2023\n",
    "\n",
    "## Operações básicas.\n",
    "![Operadores Matemáticos](operadores.png)\n",
    "\n",
    "**Soma e Subtração:** + e -\n",
    "\n",
    "**Multiplicação e Divisão:** * e /\n",
    "\n",
    "**Exponencial e Radiciação:** **\n",
    "\n",
    "**Resto:** %\n",
    "\n",
    "**Divisão Inteira:** //"
   ]
  },
  {
   "cell_type": "code",
   "execution_count": null,
   "metadata": {},
   "outputs": [],
   "source": [
    "# Soma\n",
    "10 + 4"
   ]
  },
  {
   "cell_type": "code",
   "execution_count": null,
   "metadata": {},
   "outputs": [],
   "source": [
    "# Subtração\n",
    "10 - 4"
   ]
  },
  {
   "cell_type": "code",
   "execution_count": null,
   "metadata": {},
   "outputs": [],
   "source": [
    "# Mutiplicação\n",
    "4 * 2"
   ]
  },
  {
   "cell_type": "code",
   "execution_count": null,
   "metadata": {},
   "outputs": [],
   "source": [
    "# Divisão\n",
    "8 / 2"
   ]
  },
  {
   "cell_type": "code",
   "execution_count": null,
   "metadata": {},
   "outputs": [],
   "source": [
    "# Exponenciação\n",
    "4 ** 2\n",
    "# Leia-se 4 elevado ao quadrado"
   ]
  },
  {
   "cell_type": "code",
   "execution_count": null,
   "metadata": {},
   "outputs": [],
   "source": [
    "# Radiciação\n",
    "16 ** (1/2)\n",
    "# Leia-se Raiz quadrada de 16. Da mesma forma se no lugar do 1/2 fosse 1/3 ai leria-se raiz cubica de 16"
   ]
  },
  {
   "cell_type": "code",
   "execution_count": null,
   "metadata": {},
   "outputs": [],
   "source": [
    "# Divvisão inteira\n",
    "20 // 6"
   ]
  },
  {
   "cell_type": "code",
   "execution_count": null,
   "metadata": {},
   "outputs": [],
   "source": [
    "# Resto\n",
    "10 % 6"
   ]
  },
  {
   "cell_type": "markdown",
   "metadata": {},
   "source": [
    "## Ordem de precêndencia.\n",
    "**Ordem:**\n",
    "\n",
    "1. Parênteses: ( )\n",
    "2. Exponencial: **\n",
    "3. Multiplicação e Divisão: * e /\n",
    "4. Soma e Subtração: + e - "
   ]
  },
  {
   "cell_type": "code",
   "execution_count": null,
   "metadata": {},
   "outputs": [],
   "source": [
    "# A mutiplicação ocorrerá primeiro.\n",
    "4 + 4 * 4 + 4"
   ]
  },
  {
   "cell_type": "code",
   "execution_count": null,
   "metadata": {},
   "outputs": [],
   "source": [
    "# Parênteses alteram a prioridade para as operações de soma.\n",
    "(4 + 4) * (4 + 4) "
   ]
  },
  {
   "cell_type": "code",
   "execution_count": null,
   "metadata": {},
   "outputs": [],
   "source": [
    "# A exponenciação ocorre primeiro.\n",
    "3 * 2 ** 2"
   ]
  },
  {
   "cell_type": "code",
   "execution_count": null,
   "metadata": {},
   "outputs": [],
   "source": [
    "# A divisão ocorre primeiro.\n",
    "1 + 8/2"
   ]
  },
  {
   "cell_type": "code",
   "execution_count": null,
   "metadata": {},
   "outputs": [],
   "source": [
    "# Os parênteses alteram a prioridade para a operação de soma.\n",
    "8/(2 + 1)"
   ]
  },
  {
   "cell_type": "markdown",
   "metadata": {},
   "source": [
    "## Simbolos dos operadores comparativos:\n",
    "* **Maior que: >**\n",
    "* **Menor que: <**\n",
    "* **Maior ou igual que: >=**\n",
    "* **Menor ou igual que: <=**\n",
    "* **Igual: ==**\n",
    "* **Diferente: !=**"
   ]
  },
  {
   "cell_type": "code",
   "execution_count": null,
   "metadata": {},
   "outputs": [],
   "source": [
    "# 6 é maior que 5?\n",
    "6 > 5"
   ]
  },
  {
   "cell_type": "code",
   "execution_count": null,
   "metadata": {},
   "outputs": [],
   "source": [
    "# 6 é menor que 5?\n",
    "6 < 5"
   ]
  },
  {
   "cell_type": "code",
   "execution_count": null,
   "metadata": {},
   "outputs": [],
   "source": [
    "# 6 é maior ou igual que 5?\n",
    "6 >= 5"
   ]
  },
  {
   "cell_type": "code",
   "execution_count": null,
   "metadata": {},
   "outputs": [],
   "source": [
    "# 6 é menor ou igual que 5?\n",
    "6 <= 5"
   ]
  },
  {
   "cell_type": "code",
   "execution_count": null,
   "metadata": {},
   "outputs": [],
   "source": [
    "# 6 é igual a 5?\n",
    "6 == 5"
   ]
  },
  {
   "cell_type": "code",
   "execution_count": null,
   "metadata": {},
   "outputs": [],
   "source": [
    "# 6 é diferente de 5?\n",
    "6 != 5"
   ]
  },
  {
   "cell_type": "markdown",
   "metadata": {},
   "source": [
    "**Observção: nos exemplos acima o código ira retorna verdadeiro(True) ou falso(False).** "
   ]
  },
  {
   "cell_type": "markdown",
   "metadata": {},
   "source": [
    "## Variáveis\n",
    "**Variáveis são um dos grandes pilares da programação em python. Ao invés dee trabalhar diretamente com os valores, atribuimos valores às variáveis e trabalhamos com elas, o que torna a programação mais flexível. Vejamos alguns exemplos de como isto funciona:**"
   ]
  },
  {
   "cell_type": "code",
   "execution_count": null,
   "metadata": {},
   "outputs": [],
   "source": [
    "# Para atribuirmos valores a uma variável, utiliza-se '=':\n",
    "x = 2\n",
    "y = 4\n",
    "\n",
    "# Print é uma função para exibir coisas na tela.\n",
    "\n",
    "print(\"Se realizarmos a seguinte operação x * y o resultado será:\", x * y)\n",
    "print(\"Se realizarmos a seguinte operação x + y o resultado será:\", x + y)\n",
    "print(\"Se realizarmos a seguinte operação y**x o resultado será:\", x**y)\n",
    "\n",
    "# Mude os valores de x e de Y e rode o código novamente para ver as alterações nos resultados."
   ]
  },
  {
   "cell_type": "markdown",
   "metadata": {},
   "source": [
    "### Nomes das variáveis.\n",
    "Um nome de uma variável podem ser somente com letras ou sequência de letras e números, mas, devem sempre começar com uma letra. Não podendo assim começar o nome com números ou caracteres especiais, com a execão do underline \"_\" "
   ]
  },
  {
   "cell_type": "code",
   "execution_count": 27,
   "metadata": {},
   "outputs": [
    {
     "name": "stdout",
     "output_type": "stream",
     "text": [
      "2\n"
     ]
    }
   ],
   "source": [
    "# Nomes válidos para variável:\n",
    "num2 = 2\n",
    "texto = \"Olá Mundo!\"\n",
    "_teste_ = 10\n",
    "\n",
    "# Você pode dar o comando com a função print com o nome da variável entre parênteses para imprimir o seu valor\n",
    "\n",
    "print(num2) "
   ]
  },
  {
   "cell_type": "code",
   "execution_count": null,
   "metadata": {},
   "outputs": [],
   "source": [
    "# Nomes inválidos para variável:\n",
    "2num = 2\n",
    "@texto = \"Olá Mundo!\"\n",
    " teste = 10\n",
    "\n",
    "# Você pode dar o comando com a função print com o nome da variável entre parênteses e nesse caso não ira imprimir o seu valor\n",
    "\n",
    "print( teste)\n",
    "\n",
    "# Ao digitar alguma dessas variáveis ira dar erro. "
   ]
  },
  {
   "cell_type": "markdown",
   "metadata": {},
   "source": [
    "**Lembre-se! Variáveis são muito úteis para seu código, então para facilitar seu trabalho, de a elas nomes que facilite a sua compreenção e a dos demais que possa vim a utilizar se código.**"
   ]
  },
  {
   "cell_type": "code",
   "execution_count": null,
   "metadata": {},
   "outputs": [],
   "source": []
  }
 ],
 "metadata": {
  "kernelspec": {
   "display_name": "Python 3",
   "language": "python",
   "name": "python3"
  },
  "language_info": {
   "codemirror_mode": {
    "name": "ipython",
    "version": 3
   },
   "file_extension": ".py",
   "mimetype": "text/x-python",
   "name": "python",
   "nbconvert_exporter": "python",
   "pygments_lexer": "ipython3",
   "version": "3.11.5"
  },
  "orig_nbformat": 4
 },
 "nbformat": 4,
 "nbformat_minor": 2
}
