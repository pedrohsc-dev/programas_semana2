{
 "cells": [
  {
   "cell_type": "markdown",
   "metadata": {},
   "source": [
    "# Meu primeiro programa em python - Curso de Python FEA.dev 2023\n",
    "\n",
    "## Operações básicas.\n",
    "![Operadores Matemáticos](operadores.png)\n",
    "\n",
    "**Soma e Subtração:** + e -\n",
    "\n",
    "**Multiplicação e Divisão:** * e /\n",
    "\n",
    "**Exponencial e Radiciação:** **\n",
    "\n",
    "**Resto:** %\n",
    "\n",
    "**Divisão Inteira:** //"
   ]
  },
  {
   "cell_type": "code",
   "execution_count": 26,
   "metadata": {},
   "outputs": [
    {
     "data": {
      "text/plain": [
       "14"
      ]
     },
     "execution_count": 26,
     "metadata": {},
     "output_type": "execute_result"
    }
   ],
   "source": [
    "# Soma\n",
    "10 + 4"
   ]
  },
  {
   "cell_type": "code",
   "execution_count": 27,
   "metadata": {},
   "outputs": [
    {
     "data": {
      "text/plain": [
       "6"
      ]
     },
     "execution_count": 27,
     "metadata": {},
     "output_type": "execute_result"
    }
   ],
   "source": [
    "# Subtração\n",
    "10 - 4"
   ]
  },
  {
   "cell_type": "code",
   "execution_count": 28,
   "metadata": {},
   "outputs": [
    {
     "data": {
      "text/plain": [
       "8"
      ]
     },
     "execution_count": 28,
     "metadata": {},
     "output_type": "execute_result"
    }
   ],
   "source": [
    "# Mutiplicação\n",
    "4 * 2"
   ]
  },
  {
   "cell_type": "code",
   "execution_count": 29,
   "metadata": {},
   "outputs": [
    {
     "data": {
      "text/plain": [
       "4.0"
      ]
     },
     "execution_count": 29,
     "metadata": {},
     "output_type": "execute_result"
    }
   ],
   "source": [
    "# Divisão\n",
    "8 / 2"
   ]
  },
  {
   "cell_type": "code",
   "execution_count": 30,
   "metadata": {},
   "outputs": [
    {
     "data": {
      "text/plain": [
       "16"
      ]
     },
     "execution_count": 30,
     "metadata": {},
     "output_type": "execute_result"
    }
   ],
   "source": [
    "# Exponenciação\n",
    "4 ** 2\n",
    "# Leia-se 4 elevado ao quadrado"
   ]
  },
  {
   "cell_type": "code",
   "execution_count": 31,
   "metadata": {},
   "outputs": [
    {
     "data": {
      "text/plain": [
       "4.0"
      ]
     },
     "execution_count": 31,
     "metadata": {},
     "output_type": "execute_result"
    }
   ],
   "source": [
    "# Radiciação\n",
    "16 ** (1/2)\n",
    "# Leia-se Raiz quadrada de 16. Da mesma forma se no lugar do 1/2 fosse 1/3 ai leria-se raiz cubica de 16"
   ]
  },
  {
   "cell_type": "code",
   "execution_count": 32,
   "metadata": {},
   "outputs": [
    {
     "data": {
      "text/plain": [
       "3"
      ]
     },
     "execution_count": 32,
     "metadata": {},
     "output_type": "execute_result"
    }
   ],
   "source": [
    "# Divvisão inteira\n",
    "20 // 6"
   ]
  },
  {
   "cell_type": "code",
   "execution_count": 33,
   "metadata": {},
   "outputs": [
    {
     "data": {
      "text/plain": [
       "4"
      ]
     },
     "execution_count": 33,
     "metadata": {},
     "output_type": "execute_result"
    }
   ],
   "source": [
    "# Resto\n",
    "10 % 6"
   ]
  },
  {
   "cell_type": "markdown",
   "metadata": {},
   "source": [
    "## Ordem de precêndencia.\n",
    "**Ordem:**\n",
    "\n",
    "1. Parênteses: ( )\n",
    "2. Exponencial: **\n",
    "3. Multiplicação e Divisão: * e /\n",
    "4. Soma e Subtração: + e - "
   ]
  },
  {
   "cell_type": "code",
   "execution_count": 34,
   "metadata": {},
   "outputs": [
    {
     "data": {
      "text/plain": [
       "24"
      ]
     },
     "execution_count": 34,
     "metadata": {},
     "output_type": "execute_result"
    }
   ],
   "source": [
    "# A mutiplicação ocorrerá primeiro.\n",
    "4 + 4 * 4 + 4"
   ]
  },
  {
   "cell_type": "code",
   "execution_count": 35,
   "metadata": {},
   "outputs": [
    {
     "data": {
      "text/plain": [
       "64"
      ]
     },
     "execution_count": 35,
     "metadata": {},
     "output_type": "execute_result"
    }
   ],
   "source": [
    "# Parênteses alteram a prioridade para as operações de soma.\n",
    "(4 + 4) * (4 + 4) "
   ]
  },
  {
   "cell_type": "code",
   "execution_count": 36,
   "metadata": {},
   "outputs": [
    {
     "data": {
      "text/plain": [
       "12"
      ]
     },
     "execution_count": 36,
     "metadata": {},
     "output_type": "execute_result"
    }
   ],
   "source": [
    "# A exponenciação ocorre primeiro.\n",
    "3 * 2 ** 2"
   ]
  },
  {
   "cell_type": "code",
   "execution_count": 37,
   "metadata": {},
   "outputs": [
    {
     "data": {
      "text/plain": [
       "5.0"
      ]
     },
     "execution_count": 37,
     "metadata": {},
     "output_type": "execute_result"
    }
   ],
   "source": [
    "# A divisão ocorre primeiro.\n",
    "1 + 8/2"
   ]
  },
  {
   "cell_type": "code",
   "execution_count": 38,
   "metadata": {},
   "outputs": [
    {
     "data": {
      "text/plain": [
       "2.6666666666666665"
      ]
     },
     "execution_count": 38,
     "metadata": {},
     "output_type": "execute_result"
    }
   ],
   "source": [
    "# Os parênteses alteram a prioridade para a operação de soma.\n",
    "8/(2 + 1)"
   ]
  },
  {
   "cell_type": "markdown",
   "metadata": {},
   "source": [
    "## Simbolos dos operadores comparativos:\n",
    "* **Maior que: >**\n",
    "* **Menor que: <**\n",
    "* **Maior ou igual que: >=**\n",
    "* **Menor ou igual que: <=**\n",
    "* **Igual: ==**\n",
    "* **Diferente: !=**"
   ]
  },
  {
   "cell_type": "code",
   "execution_count": 39,
   "metadata": {},
   "outputs": [
    {
     "data": {
      "text/plain": [
       "True"
      ]
     },
     "execution_count": 39,
     "metadata": {},
     "output_type": "execute_result"
    }
   ],
   "source": [
    "# 6 é maior que 5?\n",
    "6 > 5"
   ]
  },
  {
   "cell_type": "code",
   "execution_count": 40,
   "metadata": {},
   "outputs": [
    {
     "data": {
      "text/plain": [
       "False"
      ]
     },
     "execution_count": 40,
     "metadata": {},
     "output_type": "execute_result"
    }
   ],
   "source": [
    "# 6 é menor que 5?\n",
    "6 < 5"
   ]
  },
  {
   "cell_type": "code",
   "execution_count": 41,
   "metadata": {},
   "outputs": [
    {
     "data": {
      "text/plain": [
       "True"
      ]
     },
     "execution_count": 41,
     "metadata": {},
     "output_type": "execute_result"
    }
   ],
   "source": [
    "# 6 é maior ou igual que 5?\n",
    "6 >= 5"
   ]
  },
  {
   "cell_type": "code",
   "execution_count": 42,
   "metadata": {},
   "outputs": [
    {
     "data": {
      "text/plain": [
       "False"
      ]
     },
     "execution_count": 42,
     "metadata": {},
     "output_type": "execute_result"
    }
   ],
   "source": [
    "# 6 é menor ou igual que 5?\n",
    "6 <= 5"
   ]
  },
  {
   "cell_type": "code",
   "execution_count": 43,
   "metadata": {},
   "outputs": [
    {
     "data": {
      "text/plain": [
       "False"
      ]
     },
     "execution_count": 43,
     "metadata": {},
     "output_type": "execute_result"
    }
   ],
   "source": [
    "# 6 é igual a 5?\n",
    "6 == 5"
   ]
  },
  {
   "cell_type": "code",
   "execution_count": 44,
   "metadata": {},
   "outputs": [
    {
     "data": {
      "text/plain": [
       "True"
      ]
     },
     "execution_count": 44,
     "metadata": {},
     "output_type": "execute_result"
    }
   ],
   "source": [
    "# 6 é diferente de 5?\n",
    "6 != 5"
   ]
  },
  {
   "cell_type": "markdown",
   "metadata": {},
   "source": [
    "**Observção: nos exemplos acima o código ira retorna verdadeiro(True) ou falso(False).** "
   ]
  },
  {
   "cell_type": "markdown",
   "metadata": {},
   "source": [
    "## Variáveis\n",
    "**Variáveis são um dos grandes pilares da programação em python. Ao invés dee trabalhar diretamente com os valores, atribuimos valores às variáveis e trabalhamos com elas, o que torna a programação mais flexível. Vejamos alguns exemplos de como isto funciona:**"
   ]
  },
  {
   "cell_type": "code",
   "execution_count": 45,
   "metadata": {},
   "outputs": [
    {
     "name": "stdout",
     "output_type": "stream",
     "text": [
      "Se realizarmos a seguinte operação x * y o resultado será: 8\n",
      "Se realizarmos a seguinte operação x + y o resultado será: 6\n",
      "Se realizarmos a seguinte operação y**x o resultado será: 16\n"
     ]
    }
   ],
   "source": [
    "# Para atribuirmos valores a uma variável, utiliza-se '=':\n",
    "x = 2\n",
    "y = 4\n",
    "\n",
    "# Print é uma função para exibir coisas na tela.\n",
    "\n",
    "print(\"Se realizarmos a seguinte operação x * y o resultado será:\", x * y)\n",
    "print(\"Se realizarmos a seguinte operação x + y o resultado será:\", x + y)\n",
    "print(\"Se realizarmos a seguinte operação y**x o resultado será:\", x**y)\n",
    "\n",
    "# Mude os valores de x e de Y e rode o código novamente para ver as alterações nos resultados."
   ]
  },
  {
   "cell_type": "markdown",
   "metadata": {},
   "source": [
    "### Nomes das variáveis.\n",
    "Um nome de uma variável podem ser somente com letras ou sequência de letras e números, mas, devem sempre começar com uma letra. Não podendo assim começar o nome com números ou caracteres especiais, com a execão do underline \"_\" "
   ]
  },
  {
   "cell_type": "code",
   "execution_count": 46,
   "metadata": {},
   "outputs": [
    {
     "name": "stdout",
     "output_type": "stream",
     "text": [
      "2\n"
     ]
    }
   ],
   "source": [
    "# Nomes válidos para variável:\n",
    "num2 = 2\n",
    "texto = \"Olá Mundo!\"\n",
    "_teste_ = 10\n",
    "\n",
    "# Você pode dar o comando com a função print com o nome da variável entre parênteses para imprimir o seu valor\n",
    "\n",
    "print(num2) "
   ]
  },
  {
   "cell_type": "code",
   "execution_count": 47,
   "metadata": {},
   "outputs": [
    {
     "ename": "SyntaxError",
     "evalue": "invalid decimal literal (1835825511.py, line 2)",
     "output_type": "error",
     "traceback": [
      "\u001b[1;36m  Cell \u001b[1;32mIn[47], line 2\u001b[1;36m\u001b[0m\n\u001b[1;33m    2num = 2\u001b[0m\n\u001b[1;37m    ^\u001b[0m\n\u001b[1;31mSyntaxError\u001b[0m\u001b[1;31m:\u001b[0m invalid decimal literal\n"
     ]
    }
   ],
   "source": [
    "# Nomes inválidos para variável:\n",
    "2num = 2\n",
    "@texto = \"Olá Mundo!\"\n",
    " teste = 10\n",
    "\n",
    "# Você pode dar o comando com a função print com o nome da variável entre parênteses e nesse caso não ira imprimir o seu valor\n",
    "\n",
    "print( teste)\n",
    "\n",
    "# Ao digitar alguma dessas variáveis ira dar erro. "
   ]
  },
  {
   "cell_type": "markdown",
   "metadata": {},
   "source": [
    "**Lembre-se! Variáveis são muito úteis para seu código, então para facilitar seu trabalho, de a elas nomes que facilite a sua compreenção e a dos demais que possa vim a utilizar se código.**"
   ]
  },
  {
   "cell_type": "markdown",
   "metadata": {},
   "source": [
    "## Operações com variáveis com o valor do tipo texto (string)\n",
    "**As strings podem ser utilizadas como valores de variáveis em Python; elas são representadas por \" \" ou ' '. No entanto, é recomendável utilizar sempre aspas duplas(\" \").**"
   ]
  },
  {
   "cell_type": "code",
   "execution_count": 50,
   "metadata": {},
   "outputs": [
    {
     "name": "stdout",
     "output_type": "stream",
     "text": [
      "Hello World!\n"
     ]
    }
   ],
   "source": [
    "print(\"Hello World!\")"
   ]
  },
  {
   "cell_type": "code",
   "execution_count": 49,
   "metadata": {},
   "outputs": [
    {
     "name": "stdout",
     "output_type": "stream",
     "text": [
      "Bem vindos ao curso de Python do FEA.dev!\n"
     ]
    }
   ],
   "source": [
    "# Definindo um valor do tipo string para uma variável\n",
    "string = \"Bem vindos ao curso de Python do FEA.dev!\"\n",
    "\n",
    "# Executando o comando print com a variável string\n",
    "print(string)"
   ]
  },
  {
   "cell_type": "code",
   "execution_count": 9,
   "metadata": {},
   "outputs": [
    {
     "name": "stdout",
     "output_type": "stream",
     "text": [
      "\n",
      "Bem vindos ao curso de Python do FEA.dev!\n",
      "Esta é a primeira aula\n",
      "Aproveitem e aprendam muito!\n",
      "\n"
     ]
    }
   ],
   "source": [
    "# Podemos usar também uma segquência de três aspas duplas para escrever strings com quebra de linhas.\n",
    "string2 = \"\"\"\n",
    "Bem vindos ao curso de Python do FEA.dev!\n",
    "Esta é a primeira aula\n",
    "Aproveitem e aprendam muito!\n",
    "\"\"\"\n",
    "print(string2)"
   ]
  },
  {
   "cell_type": "markdown",
   "metadata": {},
   "source": [
    "### Tipos de operações com strings:\n",
    "**Concatenamento de strings.\n",
    "Em geral, podemos utilizar o operador aritmético de soma para concatenar(juntar) duas ou mais strings**"
   ]
  },
  {
   "cell_type": "code",
   "execution_count": null,
   "metadata": {},
   "outputs": [
    {
     "name": "stdout",
     "output_type": "stream",
     "text": [
      "Hello World\n"
     ]
    }
   ],
   "source": [
    "# Exemplo de concatenação\n",
    "x =\"Hello \"\n",
    "y = \"World\"\n",
    "\n",
    "print(x + y)\n",
    "\n",
    "# Troque os valores de x e de y entre aspas duplas para ver o resultado!"
   ]
  },
  {
   "cell_type": "markdown",
   "metadata": {},
   "source": [
    "### Indexação e fatiamento de strings.\n",
    "É possível escolher um caractere específico de uma string digitando o número referente a sua possição, o que é chamado de ínice. Lembrando que a contagem desta posição em python começa aparti do 0   "
   ]
  },
  {
   "cell_type": "code",
   "execution_count": 3,
   "metadata": {},
   "outputs": [
    {
     "data": {
      "text/plain": [
       "'v'"
      ]
     },
     "execution_count": 3,
     "metadata": {},
     "output_type": "execute_result"
    }
   ],
   "source": [
    "# Escolhendo um caractere da string.\n",
    "string = \"Bem vindos ao curso de Python do FEA.dev!\"\n",
    "string[7]\n",
    "\n",
    "# Mude este número entre colchetes para ver um resltado diferente!"
   ]
  },
  {
   "cell_type": "code",
   "execution_count": 5,
   "metadata": {},
   "outputs": [
    {
     "data": {
      "text/plain": [
       "'v'"
      ]
     },
     "execution_count": 5,
     "metadata": {},
     "output_type": "execute_result"
    }
   ],
   "source": [
    "# Podemos também acessar de trás para frente, sendo o ultimo caractere -1\n",
    "# Selecionando o penúltimo caractere\n",
    "string[-1]"
   ]
  },
  {
   "cell_type": "code",
   "execution_count": 6,
   "metadata": {},
   "outputs": [
    {
     "data": {
      "text/plain": [
       "'vindos'"
      ]
     },
     "execution_count": 6,
     "metadata": {},
     "output_type": "execute_result"
    }
   ],
   "source": [
    "# Para seleciornar m grupo de caracteres, tilizamos dois pontos(:)\n",
    "# Repare que o começo da seleção inclui o número que iniciara a contagem de caractere e vai até um caractere antes do selecionado.\n",
    "# Ou seja, selecionando [4:10], obteremos do apartir do caractere 4 até o caractere 9.\n",
    "string[4:10] "
   ]
  },
  {
   "cell_type": "code",
   "execution_count": 8,
   "metadata": {},
   "outputs": [
    {
     "data": {
      "text/plain": [
       "'curso de Python do FEA.dev'"
      ]
     },
     "execution_count": 8,
     "metadata": {},
     "output_type": "execute_result"
    }
   ],
   "source": [
    "# Para selecionar de um carctere especifico até o uultimo caractere, basta sar o número referente ao desejado,\n",
    "# E não especificar o último.\n",
    "# Assim ele vai selecionar do número especificado até o final.\n",
    "string[14:]"
   ]
  },
  {
   "cell_type": "markdown",
   "metadata": {},
   "source": [
    "## Métodos de strings\n",
    "As strings oferecem métodos que executam várias operações úteis. Métodos são comandos colocados ao final da string para realizar\n",
    "determinadas ações de modificações.\n",
    "Dentre os principais métodos aplicáveis a strings e suas funcionalidades podemos citar:\n",
    "\n",
    "1. **exemplo.upper():** que retorna o valor da variável com todas as letras maiúsculas.\n",
    "1. **exemplo.lower():** retorna o valor da variável com todas as letras minúsclas.\n",
    "1. **exemplo.strip():** retira os espaços em branco no cameço e no fim do valor da variável.\n",
    "1. **exemplo.startswith('xyz'):** testa se o valor da variável começa com os elementos explicitados entre parênteses.\n",
    "1. **exemplo.endswith('xyz'):** testa se a o valor da variável termina com os elementos explicitados entre parênteses.\n",
    "1. **exemplo.find('xyz'):** procura a se o valor da variável tem os elementos explicitados entre parênteses, se sim, ele retornara o número do index referente onde se encontra o elemento, caso contrario retorna o valor -1.\n",
    "1. **exemplo.replace('old' , 'new'):** traca o primeiro valor explicitado entre parênteses antes da vírgula, pelo o que está após.\n",
    "---\n",
    "Para mais exemplos de métodos de string [clique aqui](https://docs.python.org/pt-br/3/library/string.html).   \n"
   ]
  },
  {
   "cell_type": "code",
   "execution_count": 1,
   "metadata": {},
   "outputs": [
    {
     "data": {
      "text/plain": [
       "'EXEMPLO'"
      ]
     },
     "execution_count": 1,
     "metadata": {},
     "output_type": "execute_result"
    }
   ],
   "source": [
    "#Upper:\n",
    "exemplo = \"exemplo\"\n",
    "exemplo.upper()"
   ]
  },
  {
   "cell_type": "code",
   "execution_count": 2,
   "metadata": {},
   "outputs": [
    {
     "data": {
      "text/plain": [
       "'exemplo'"
      ]
     },
     "execution_count": 2,
     "metadata": {},
     "output_type": "execute_result"
    }
   ],
   "source": [
    "#Lower\n",
    "exemplo = \"EXemPLO\"\n",
    "exemplo.lower()"
   ]
  },
  {
   "cell_type": "code",
   "execution_count": 4,
   "metadata": {},
   "outputs": [
    {
     "data": {
      "text/plain": [
       "'exemplo'"
      ]
     },
     "execution_count": 4,
     "metadata": {},
     "output_type": "execute_result"
    }
   ],
   "source": [
    "#Strip\n",
    "exemplo = \"      exemplo             \"\n",
    "exemplo.strip()"
   ]
  },
  {
   "cell_type": "code",
   "execution_count": 8,
   "metadata": {},
   "outputs": [
    {
     "data": {
      "text/plain": [
       "True"
      ]
     },
     "execution_count": 8,
     "metadata": {},
     "output_type": "execute_result"
    }
   ],
   "source": [
    "#Startswith\n",
    "exemplo = \"exemplo\"\n",
    "exemplo.startswith('e')"
   ]
  },
  {
   "cell_type": "code",
   "execution_count": 9,
   "metadata": {},
   "outputs": [
    {
     "data": {
      "text/plain": [
       "False"
      ]
     },
     "execution_count": 9,
     "metadata": {},
     "output_type": "execute_result"
    }
   ],
   "source": [
    "#Endswith\n",
    "exemplo = \"exemplo\"\n",
    "exemplo.endswith('e')"
   ]
  },
  {
   "cell_type": "code",
   "execution_count": 10,
   "metadata": {},
   "outputs": [
    {
     "data": {
      "text/plain": [
       "1"
      ]
     },
     "execution_count": 10,
     "metadata": {},
     "output_type": "execute_result"
    }
   ],
   "source": [
    "#Find\n",
    "exemplo = \"exemplo\"\n",
    "exemplo.find('x')"
   ]
  },
  {
   "cell_type": "code",
   "execution_count": 11,
   "metadata": {},
   "outputs": [
    {
     "data": {
      "text/plain": [
       "'Programar é muito bom!'"
      ]
     },
     "execution_count": 11,
     "metadata": {},
     "output_type": "execute_result"
    }
   ],
   "source": [
    "#Replace\n",
    "exemplo2 = \"Programar é muito chato!\"\n",
    "exemplo2.replace('chato', 'bom') "
   ]
  },
  {
   "cell_type": "markdown",
   "metadata": {},
   "source": [
    "## Input e Output\n",
    "**Veremos agora como armazenar informações externas no seu código!**\n",
    "\n",
    "Para armazenar informações utilizamos a função input(), e entre parênteses coolocamos uma pergnta em forma de string. "
   ]
  },
  {
   "cell_type": "code",
   "execution_count": null,
   "metadata": {},
   "outputs": [],
   "source": [
    "# Usando a função input() o valor que está contido dentro dele séra exibido como uma pergunta.\n",
    "input(\"Como você está? \")"
   ]
  },
  {
   "cell_type": "markdown",
   "metadata": {},
   "source": [
    "E se tratando da função de output diferente da input ela serve para saída de dados, como por exemplo a função print "
   ]
  },
  {
   "cell_type": "code",
   "execution_count": 1,
   "metadata": {},
   "outputs": [
    {
     "name": "stdout",
     "output_type": "stream",
     "text": [
      "Parabéns por chegar até aqui!\n"
     ]
    }
   ],
   "source": [
    "print(\"Parabéns por chegar até aqui!\")"
   ]
  },
  {
   "cell_type": "markdown",
   "metadata": {},
   "source": [
    "Podemos também atribuir inputs as variáveis e usar a função print para exebir os dados que foram coletados pelo input."
   ]
  },
  {
   "cell_type": "code",
   "execution_count": null,
   "metadata": {},
   "outputs": [],
   "source": [
    "idade = input(\"Qunatos anos você tem? \")\n",
    "\n",
    "# E podemos utilizar duas maneiras de colocar as variáveis junto às strings.\n",
    "\n",
    "print(\"Você possui \", idade, \"anos, que legal\")\n",
    "print(f\"você possui {idade} anos, que legal\")\n",
    "\n",
    "# No segundo print para que ele funcione perfeitamente deve-se colocar um a letra f antes da string"
   ]
  },
  {
   "cell_type": "markdown",
   "metadata": {},
   "source": [
    "## F-string\n",
    "Colocando a letra f na frente das strings e antes das aspas, podemos adicionar junto às strings variaveis entre chaves { }.  "
   ]
  },
  {
   "cell_type": "code",
   "execution_count": 3,
   "metadata": {},
   "outputs": [
    {
     "name": "stdout",
     "output_type": "stream",
     "text": [
      "Tomei inccríveis 8 xícaras de CAFÉ!!\n"
     ]
    }
   ],
   "source": [
    "# f-string\n",
    "a = 4\n",
    "b = 2\n",
    "bebida = \"café\"\n",
    "\n",
    "f_string = f\"Tomei inccríveis {a * b} xícaras de {bebida.upper() + b * '!'}\"\n",
    "\n",
    "print(f_string)"
   ]
  },
  {
   "cell_type": "markdown",
   "metadata": {},
   "source": [
    "# Chegamos ao fim desses exemplos.\n",
    "**Esses exemplos foram confeccionados ao assistir  uma aula do curso  de python pelo instituto [FEA.dev](https://www.fearp.usp.br/oportunidades/item/11917-curso-de-python-fea-dev.html) na intenção de obter e repassar o aprendizado adquirido durante a aula** "
   ]
  },
  {
   "cell_type": "code",
   "execution_count": null,
   "metadata": {},
   "outputs": [],
   "source": []
  }
 ],
 "metadata": {
  "kernelspec": {
   "display_name": "Python 3",
   "language": "python",
   "name": "python3"
  },
  "language_info": {
   "codemirror_mode": {
    "name": "ipython",
    "version": 3
   },
   "file_extension": ".py",
   "mimetype": "text/x-python",
   "name": "python",
   "nbconvert_exporter": "python",
   "pygments_lexer": "ipython3",
   "version": "3.11.5"
  },
  "orig_nbformat": 4
 },
 "nbformat": 4,
 "nbformat_minor": 2
}
